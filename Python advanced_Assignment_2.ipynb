{
 "cells": [
  {
   "cell_type": "code",
   "execution_count": null,
   "id": "d33cb2fc",
   "metadata": {},
   "outputs": [],
   "source": [
    "Q1. What is the relationship between classes and modules?"
   ]
  },
  {
   "cell_type": "code",
   "execution_count": null,
   "id": "6fdcc7b5",
   "metadata": {},
   "outputs": [],
   "source": [
    "a class is used to define a blueprint for a given object, whereas a module is used to reuse a given piece of code inside another program"
   ]
  },
  {
   "cell_type": "code",
   "execution_count": null,
   "id": "5de295f9",
   "metadata": {},
   "outputs": [],
   "source": []
  },
  {
   "cell_type": "code",
   "execution_count": null,
   "id": "1907da85",
   "metadata": {},
   "outputs": [],
   "source": [
    "Q2. How do you make instances and classes?"
   ]
  },
  {
   "cell_type": "code",
   "execution_count": null,
   "id": "a1e4bdef",
   "metadata": {},
   "outputs": [],
   "source": [
    "To create instances of a class, to call the class using class name and pass in  whatever arguments its __init__ method accepts\n",
    "To create a class, use the keyword class"
   ]
  },
  {
   "cell_type": "code",
   "execution_count": null,
   "id": "80626ac3",
   "metadata": {},
   "outputs": [],
   "source": []
  },
  {
   "cell_type": "code",
   "execution_count": null,
   "id": "3fa03134",
   "metadata": {},
   "outputs": [],
   "source": [
    "Q3. Where and how should be class attributes created?"
   ]
  },
  {
   "cell_type": "code",
   "execution_count": null,
   "id": "c0fa685c",
   "metadata": {},
   "outputs": [],
   "source": [
    "A class attribute is shared by all instances of the class. To define a class attribute, it should place outside of the __init__() method."
   ]
  },
  {
   "cell_type": "code",
   "execution_count": null,
   "id": "43b179d9",
   "metadata": {},
   "outputs": [],
   "source": []
  },
  {
   "cell_type": "code",
   "execution_count": null,
   "id": "85e63ad1",
   "metadata": {},
   "outputs": [],
   "source": [
    "Q4. Where and how are instance attributes created?"
   ]
  },
  {
   "cell_type": "code",
   "execution_count": null,
   "id": "f8fb498e",
   "metadata": {},
   "outputs": [],
   "source": [
    "Instance attributes are defined in the constructor. Defined directly inside a class. Defined inside a constructor using the self parameter"
   ]
  },
  {
   "cell_type": "code",
   "execution_count": null,
   "id": "ffb62f75",
   "metadata": {},
   "outputs": [],
   "source": []
  },
  {
   "cell_type": "code",
   "execution_count": null,
   "id": "069afa70",
   "metadata": {},
   "outputs": [],
   "source": [
    "Q5. What does the term \"self\" in a Python class mean?"
   ]
  },
  {
   "cell_type": "code",
   "execution_count": null,
   "id": "82bb7b9c",
   "metadata": {},
   "outputs": [],
   "source": [
    "self represents the instance of the class. By using the “self” we can access the attributes and methods of the class in python"
   ]
  },
  {
   "cell_type": "code",
   "execution_count": null,
   "id": "9798587e",
   "metadata": {},
   "outputs": [],
   "source": []
  },
  {
   "cell_type": "code",
   "execution_count": null,
   "id": "4d07cb24",
   "metadata": {},
   "outputs": [],
   "source": [
    "Q6. How does a Python class handle operator overloading?"
   ]
  },
  {
   "cell_type": "code",
   "execution_count": null,
   "id": "fb34274f",
   "metadata": {},
   "outputs": [],
   "source": [
    "To perform operator overloading, Python provides some special function or magic function that is automatically invoked when it is associated with that particular operator"
   ]
  },
  {
   "cell_type": "code",
   "execution_count": null,
   "id": "6922d2e8",
   "metadata": {},
   "outputs": [],
   "source": []
  },
  {
   "cell_type": "code",
   "execution_count": null,
   "id": "2687c1aa",
   "metadata": {},
   "outputs": [],
   "source": [
    "Q7. When do you consider allowing operator overloading of your classes?"
   ]
  },
  {
   "cell_type": "code",
   "execution_count": null,
   "id": "b50fd1a3",
   "metadata": {},
   "outputs": [],
   "source": [
    "Operator Overloading means giving extended meaning beyond their predefined operational meaning."
   ]
  },
  {
   "cell_type": "code",
   "execution_count": null,
   "id": "65cc1630",
   "metadata": {},
   "outputs": [],
   "source": []
  },
  {
   "cell_type": "code",
   "execution_count": null,
   "id": "620defdf",
   "metadata": {},
   "outputs": [],
   "source": [
    "Q8. What is the most popular form of operator overloading?"
   ]
  },
  {
   "cell_type": "code",
   "execution_count": null,
   "id": "c7d819ac",
   "metadata": {},
   "outputs": [],
   "source": [
    "Addition (+) operator will perform arithmetic addition on two numbers, merge two lists, or concatenate two strings. This feature in Python that allows the same operator to have different meaning according to the context is called operator overloading."
   ]
  },
  {
   "cell_type": "code",
   "execution_count": null,
   "id": "852091f9",
   "metadata": {},
   "outputs": [],
   "source": []
  },
  {
   "cell_type": "code",
   "execution_count": null,
   "id": "e31cc533",
   "metadata": {},
   "outputs": [],
   "source": [
    "Q9. What are the two most important concepts to grasp in order to comprehend Python OOP code?"
   ]
  },
  {
   "cell_type": "code",
   "execution_count": null,
   "id": "37aa26b8",
   "metadata": {},
   "outputs": [],
   "source": [
    "inheritance and polymorphism are key ingredients for designing robust, flexible, and easy-to-maintain software."
   ]
  },
  {
   "cell_type": "code",
   "execution_count": null,
   "id": "66f651a7",
   "metadata": {},
   "outputs": [],
   "source": []
  }
 ],
 "metadata": {
  "kernelspec": {
   "display_name": "Python 3 (ipykernel)",
   "language": "python",
   "name": "python3"
  },
  "language_info": {
   "codemirror_mode": {
    "name": "ipython",
    "version": 3
   },
   "file_extension": ".py",
   "mimetype": "text/x-python",
   "name": "python",
   "nbconvert_exporter": "python",
   "pygments_lexer": "ipython3",
   "version": "3.9.7"
  }
 },
 "nbformat": 4,
 "nbformat_minor": 5
}
