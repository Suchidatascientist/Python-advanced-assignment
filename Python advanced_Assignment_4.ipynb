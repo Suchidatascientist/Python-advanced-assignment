{
 "cells": [
  {
   "cell_type": "code",
   "execution_count": null,
   "id": "7599035b",
   "metadata": {},
   "outputs": [],
   "source": [
    "Q1. Which two operator overloading methods can you use in your classes to support iteration?"
   ]
  },
  {
   "cell_type": "code",
   "execution_count": null,
   "id": "70002c61",
   "metadata": {},
   "outputs": [],
   "source": [
    "The __iter__ returns the iterator object and is implicitly called at the start of loops.\n",
    "The __next__ method returns the next value and is implicitly called at each loop increment."
   ]
  },
  {
   "cell_type": "code",
   "execution_count": null,
   "id": "2d991a21",
   "metadata": {},
   "outputs": [],
   "source": []
  },
  {
   "cell_type": "code",
   "execution_count": null,
   "id": "dd397aac",
   "metadata": {},
   "outputs": [],
   "source": [
    "Q2. In what contexts do the two operator overloading methods manage printing?"
   ]
  },
  {
   "cell_type": "code",
   "execution_count": null,
   "id": "15c2e27a",
   "metadata": {},
   "outputs": [],
   "source": [
    "+ or * operator on a str object in Python will noticed its different behavior when compared to int or float objects:"
   ]
  },
  {
   "cell_type": "code",
   "execution_count": null,
   "id": "a9e6987e",
   "metadata": {},
   "outputs": [],
   "source": []
  },
  {
   "cell_type": "code",
   "execution_count": null,
   "id": "cddebee0",
   "metadata": {},
   "outputs": [],
   "source": [
    "Q3. In a class, how do you intercept slice operations?"
   ]
  },
  {
   "cell_type": "code",
   "execution_count": null,
   "id": "2d380a05",
   "metadata": {},
   "outputs": [],
   "source": []
  },
  {
   "cell_type": "code",
   "execution_count": null,
   "id": "655094aa",
   "metadata": {},
   "outputs": [],
   "source": []
  },
  {
   "cell_type": "code",
   "execution_count": null,
   "id": "d9f8234e",
   "metadata": {},
   "outputs": [],
   "source": [
    "Q4. In a class, how do you capture in-place addition?"
   ]
  },
  {
   "cell_type": "code",
   "execution_count": null,
   "id": "140229f4",
   "metadata": {},
   "outputs": [],
   "source": [
    "iadd() :- This function is used to assign and add the current value. This operation does “a+=b” operation"
   ]
  },
  {
   "cell_type": "code",
   "execution_count": null,
   "id": "0a04a390",
   "metadata": {},
   "outputs": [],
   "source": []
  },
  {
   "cell_type": "code",
   "execution_count": null,
   "id": "142e8206",
   "metadata": {},
   "outputs": [],
   "source": [
    "Q5. When is it appropriate to use operator overloading?"
   ]
  },
  {
   "cell_type": "code",
   "execution_count": null,
   "id": "14b7e68e",
   "metadata": {},
   "outputs": [],
   "source": [
    "Operator overloading is mostly useful when you're making a new class that falls into an existing \"Abstract Base Class\" (ABC"
   ]
  },
  {
   "cell_type": "code",
   "execution_count": null,
   "id": "c4327ff0",
   "metadata": {},
   "outputs": [],
   "source": []
  }
 ],
 "metadata": {
  "kernelspec": {
   "display_name": "Python 3 (ipykernel)",
   "language": "python",
   "name": "python3"
  },
  "language_info": {
   "codemirror_mode": {
    "name": "ipython",
    "version": 3
   },
   "file_extension": ".py",
   "mimetype": "text/x-python",
   "name": "python",
   "nbconvert_exporter": "python",
   "pygments_lexer": "ipython3",
   "version": "3.9.7"
  }
 },
 "nbformat": 4,
 "nbformat_minor": 5
}
