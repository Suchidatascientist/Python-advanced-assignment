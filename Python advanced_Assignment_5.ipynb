{
 "cells": [
  {
   "cell_type": "code",
   "execution_count": null,
   "id": "d177b1e0",
   "metadata": {},
   "outputs": [],
   "source": [
    "Q1. What is the meaning of multiple inheritance?"
   ]
  },
  {
   "cell_type": "code",
   "execution_count": null,
   "id": "52e278ac",
   "metadata": {},
   "outputs": [],
   "source": [
    "Multiple inheritance occurs when a class inherits from more than one base class. So the class can inherit features from multiple base classes using multiple inheritance"
   ]
  },
  {
   "cell_type": "code",
   "execution_count": null,
   "id": "312cf573",
   "metadata": {},
   "outputs": [],
   "source": []
  },
  {
   "cell_type": "code",
   "execution_count": null,
   "id": "f9346973",
   "metadata": {},
   "outputs": [],
   "source": [
    "Q2. What is the concept of delegation?"
   ]
  },
  {
   "cell_type": "code",
   "execution_count": null,
   "id": "e929272c",
   "metadata": {},
   "outputs": [],
   "source": [
    "an object-oriented design pattern that allows object composition to achieve the same code reuse as inheritance"
   ]
  },
  {
   "cell_type": "code",
   "execution_count": null,
   "id": "65e87164",
   "metadata": {},
   "outputs": [],
   "source": []
  },
  {
   "cell_type": "code",
   "execution_count": null,
   "id": "52aa26a7",
   "metadata": {},
   "outputs": [],
   "source": [
    "Q3. What is the concept of composition?"
   ]
  },
  {
   "cell_type": "code",
   "execution_count": null,
   "id": "5c37744e",
   "metadata": {},
   "outputs": [],
   "source": [
    "Composition is a concept that models a has a relationship. It enables creating complex types by combining objects of other types"
   ]
  },
  {
   "cell_type": "code",
   "execution_count": null,
   "id": "7dfc603a",
   "metadata": {},
   "outputs": [],
   "source": []
  },
  {
   "cell_type": "code",
   "execution_count": null,
   "id": "0aa865f0",
   "metadata": {},
   "outputs": [],
   "source": [
    "Q4. What are bound methods and how do we use them?"
   ]
  },
  {
   "cell_type": "code",
   "execution_count": null,
   "id": "28607906",
   "metadata": {},
   "outputs": [],
   "source": [
    "A bound method is the one which is dependent on the instance of the class as the first argument. It passes the instance as the first argument which is used to access the variables and functions"
   ]
  },
  {
   "cell_type": "code",
   "execution_count": null,
   "id": "b97b9aeb",
   "metadata": {},
   "outputs": [],
   "source": []
  },
  {
   "cell_type": "code",
   "execution_count": null,
   "id": "2bdb36c3",
   "metadata": {},
   "outputs": [],
   "source": [
    "Q5. What is the purpose of pseudoprivate attributes?"
   ]
  },
  {
   "cell_type": "code",
   "execution_count": null,
   "id": "aac02937",
   "metadata": {},
   "outputs": [],
   "source": [
    "A private attribute provides you a level of protection from the users of your class, for that attribute. If you use a public attribute, you will need to add in more logic to test for invalid values up front, which can be more work, as well as more computationally"
   ]
  },
  {
   "cell_type": "code",
   "execution_count": null,
   "id": "21fbfee3",
   "metadata": {},
   "outputs": [],
   "source": []
  }
 ],
 "metadata": {
  "kernelspec": {
   "display_name": "Python 3 (ipykernel)",
   "language": "python",
   "name": "python3"
  },
  "language_info": {
   "codemirror_mode": {
    "name": "ipython",
    "version": 3
   },
   "file_extension": ".py",
   "mimetype": "text/x-python",
   "name": "python",
   "nbconvert_exporter": "python",
   "pygments_lexer": "ipython3",
   "version": "3.9.7"
  }
 },
 "nbformat": 4,
 "nbformat_minor": 5
}
